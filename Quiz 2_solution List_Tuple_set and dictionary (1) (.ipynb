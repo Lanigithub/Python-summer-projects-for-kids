{
 "cells": [
  {
   "cell_type": "markdown",
   "metadata": {},
   "source": [
    "#  Quiz 2: List, tuple, set and dictionary(1) "
   ]
  },
  {
   "cell_type": "markdown",
   "metadata": {},
   "source": [
    "##  ***4 built-in data types in Python used to store collections of data, they are List, Tuple,\n",
    "##  Set, and Dictionary. \n",
    "##  all with different qualities and usage:\n",
    "###  1. List: mylist = [\"apple\", \"banana\", \"cherry\", \"apple\"] --inside a  square brackets, List items are ordered, ### changeable, and allow duplicate values.\n",
    "\n",
    "### List items are indexed, the first item has index [0], the second item has index [1] etc\n",
    "###  2. Tuple: mytuple = (\"apple\", \"banana\", \"cherry\", \" apple\")--in round brackets, ordered ,  unchangable, ### allowed duplicate\n",
    "\n",
    "###  3. Set: myset = {\"apple\", \"banana\", \"cherry\"},--in curly brackets,  both *unordered* and unindexed, \n",
    "### not alloweed duplicate\n",
    "\n",
    "###  4. Dictionary: thisdict = {\n",
    "###   \"brand\": \"Ford\",\n",
    "###    \"model\": \"Mustang\",\n",
    "###    \"year\": 1964\n",
    "###    }  -- in curly brackets, and have keys and values; ordered, changeable and does not allow duplicates"
   ]
  },
  {
   "cell_type": "code",
   "execution_count": null,
   "metadata": {},
   "outputs": [],
   "source": []
  },
  {
   "cell_type": "markdown",
   "metadata": {},
   "source": [
    "### 1. Create a list, tuple , set and dictionay: "
   ]
  },
  {
   "cell_type": "code",
   "execution_count": 1,
   "metadata": {},
   "outputs": [],
   "source": [
    "# a1. Create a list with items inside: apple, apple, orange, peach, banana, cherry and assign the list \n",
    "# to the variable mylist1 and print it:\n",
    "\n",
    "mylist1=['apple','apple','orange','peach','banana','cherry']\n",
    "print(mylist1)"
   ]
  },
  {
   "cell_type": "code",
   "execution_count": 2,
   "metadata": {},
   "outputs": [
    {
     "name": "stdout",
     "output_type": "stream",
     "text": [
      "[1, 2, 6, 5, 8, 9, 2]\n"
     ]
    }
   ],
   "source": [
    "# a2 create a list with numbers: 1,2,6,5,8,9,2 and assign it to the variablemylist2 and print it:\n",
    "\n",
    "mylist2=[1,2,6,5,8,9,2]\n",
    "print(mylist2)"
   ]
  },
  {
   "cell_type": "code",
   "execution_count": null,
   "metadata": {},
   "outputs": [],
   "source": []
  },
  {
   "cell_type": "code",
   "execution_count": 3,
   "metadata": {},
   "outputs": [
    {
     "name": "stdout",
     "output_type": "stream",
     "text": [
      "('apple', 'apple', 'orange', 'peach', 'banana', 'cherry')\n"
     ]
    }
   ],
   "source": [
    "# b1. Create a tuple with the items inside: apple, apple, orange, peach, banana, cherry and assign the tuple to \n",
    "# the variable mytuple1 and print it: \n",
    "mytuple1=('apple','apple','orange','peach','banana','cherry')\n",
    "print(mytuple1)"
   ]
  },
  {
   "cell_type": "code",
   "execution_count": 4,
   "metadata": {},
   "outputs": [
    {
     "name": "stdout",
     "output_type": "stream",
     "text": [
      "(1, 2, 3, 5, 6, 6, 3)\n"
     ]
    }
   ],
   "source": [
    "# b2. create a tuple with the numbers: 1,2,3,5,6,6,3 and assign it to a varaible mytuple2 and print it:\n",
    "\n",
    "mytuple2=(1, 2, 3, 5, 6, 6, 3)\n",
    "print(mytuple2)"
   ]
  },
  {
   "cell_type": "code",
   "execution_count": null,
   "metadata": {},
   "outputs": [],
   "source": []
  },
  {
   "cell_type": "code",
   "execution_count": 5,
   "metadata": {},
   "outputs": [
    {
     "name": "stdout",
     "output_type": "stream",
     "text": [
      "[('peach', 2395723278968), ('orange', 2395722711928), ('banana', 2395723278352), ('cherry', 2395723279024), ('apple', 2395723279080)]\n",
      "{'peach', 'orange', 'banana', 'cherry', 'apple'}\n",
      "Help on built-in function id in module builtins:\n",
      "\n",
      "id(obj, /)\n",
      "    Return the identity of an object.\n",
      "    \n",
      "    This is guaranteed to be unique among simultaneously existing objects.\n",
      "    (CPython uses the object's memory address.)\n",
      "\n"
     ]
    }
   ],
   "source": [
    "# c1. Create a set with the items inside: apple, orange, peach, banana, cherry and assign the set to \n",
    "# the variable myset1 and display the set:\n",
    "myset1={'apple','orange','peach','banana','cherry'}  # Question: why peach is placed before apple? \n",
    "print([(item, id(item)) for item in myset1])     \n",
    "print(myset1)\n",
    "help(id)  # use help() to find out what is id in python"
   ]
  },
  {
   "cell_type": "code",
   "execution_count": 6,
   "metadata": {},
   "outputs": [
    {
     "name": "stdout",
     "output_type": "stream",
     "text": [
      "{1, 2, 3, 5, 6}\n",
      "[(1, 140719431070544), (2, 140719431070576), (3, 140719431070608), (5, 140719431070672), (6, 140719431070704)]\n"
     ]
    }
   ],
   "source": [
    "# c2. create a set with numbers inside: 1,3,5,2,6,3,2 and assign/store it to a varaible myset2 and display the set: \n",
    "\n",
    "myset2={1,3,5,2,6,3,2}\n",
    "print(myset2)\n",
    "# lets also try id() here to find the identity of each number:\n",
    "print([(item, id(item)) for item in myset2])  # a set is not ordered that means it will re-order the items by its identity in ascending order. "
   ]
  },
  {
   "cell_type": "code",
   "execution_count": null,
   "metadata": {},
   "outputs": [],
   "source": []
  },
  {
   "cell_type": "code",
   "execution_count": 7,
   "metadata": {},
   "outputs": [
    {
     "name": "stdout",
     "output_type": "stream",
     "text": [
      "{'f1': 'apple', 'f2': 'orange', 'f3': 'peach', 'f4': 'banana', 'f5': 'cherry'}\n"
     ]
    }
   ],
   "source": [
    "# d1. Create a dictionary with the items inside: f1: apple, f2:orange,f3: peach,f4: banana, f5: cherry and assign the \n",
    "# dictionary to  the variable mydict1:\n",
    "\n",
    "mydict1= {\n",
    "    'f1':'apple',\n",
    "    'f2':'orange',\n",
    "    'f3':'peach',\n",
    "    'f4':'banana',\n",
    "    'f5':'cherry'\n",
    "}\n",
    "\n",
    "print(mydict1)"
   ]
  },
  {
   "cell_type": "code",
   "execution_count": 8,
   "metadata": {},
   "outputs": [
    {
     "data": {
      "text/plain": [
       "{1: 2, 3: 4, 5: 6}"
      ]
     },
     "execution_count": 8,
     "metadata": {},
     "output_type": "execute_result"
    }
   ],
   "source": [
    "# d2. Create a dictionary with the following pairs: 1: 2; 3:4, 5:6 as mydict2:\n",
    "mydict2={1:2, 3:4, 5:6}\n",
    "mydict2\n"
   ]
  },
  {
   "cell_type": "markdown",
   "metadata": {},
   "source": [
    "### 2. Access the list, tuple, set and dictionary:  \n",
    "#### a. List items are indexed and you can access them by referring to the index number, inside square brackets. List[1]\n",
    "#### b. Tuple items are indexed and you can access them by referring to the index number, inside square brackets; Tuple[0]\n",
    "#### c. Sets are not indexed and you can't access them by index number\n",
    "#### d. Dictionary : You can access the items of a dictionary by referring to its key name, inside square brackets  Dict[\"key\"]"
   ]
  },
  {
   "cell_type": "code",
   "execution_count": 9,
   "metadata": {},
   "outputs": [
    {
     "name": "stdout",
     "output_type": "stream",
     "text": [
      "[1, 2, 3, 4]\n"
     ]
    }
   ],
   "source": [
    "## Example:  Note: position of an item on the list, tuple and dictionary start with the index 0 \n",
    "# List[0] is the first number on the list\n",
    "mylist=[1,2,3,4]\n",
    "print(mylist)# index for the list is 0, 1,2,3"
   ]
  },
  {
   "cell_type": "code",
   "execution_count": 10,
   "metadata": {},
   "outputs": [
    {
     "data": {
      "text/plain": [
       "2"
      ]
     },
     "execution_count": 10,
     "metadata": {},
     "output_type": "execute_result"
    }
   ],
   "source": [
    "# access the 2nd item(idex 1) on the list: List[1]\n",
    "mylist[1]"
   ]
  },
  {
   "cell_type": "code",
   "execution_count": 11,
   "metadata": {},
   "outputs": [
    {
     "data": {
      "text/plain": [
       "'apple'"
      ]
     },
     "execution_count": 11,
     "metadata": {},
     "output_type": "execute_result"
    }
   ],
   "source": [
    "# a1.access the 2nd item of mylist1: \n",
    "mylist1[1]\n",
    "\n"
   ]
  },
  {
   "cell_type": "code",
   "execution_count": 12,
   "metadata": {},
   "outputs": [
    {
     "data": {
      "text/plain": [
       "'orange'"
      ]
     },
     "execution_count": 12,
     "metadata": {},
     "output_type": "execute_result"
    }
   ],
   "source": [
    "#a2.  print out the 3rd number in mylist2:\n",
    "mylist1[2]"
   ]
  },
  {
   "cell_type": "code",
   "execution_count": 13,
   "metadata": {},
   "outputs": [
    {
     "data": {
      "text/plain": [
       "'orange'"
      ]
     },
     "execution_count": 13,
     "metadata": {},
     "output_type": "execute_result"
    }
   ],
   "source": [
    "# b1. access the 3rd item on mytuple1:\n",
    "mytuple1[2]\n",
    "\n"
   ]
  },
  {
   "cell_type": "code",
   "execution_count": 14,
   "metadata": {},
   "outputs": [
    {
     "data": {
      "text/plain": [
       "'cherry'"
      ]
     },
     "execution_count": 14,
     "metadata": {},
     "output_type": "execute_result"
    }
   ],
   "source": [
    "# b2. access the last item on mytuple2:  **  hint use index -1\n",
    "mytuple1[-1]"
   ]
  },
  {
   "cell_type": "code",
   "execution_count": 15,
   "metadata": {},
   "outputs": [
    {
     "data": {
      "text/plain": [
       "[2, 3, 4]"
      ]
     },
     "execution_count": 15,
     "metadata": {},
     "output_type": "execute_result"
    }
   ],
   "source": [
    "## Range of Indexes for list and tuple: \n",
    "# You can specify a range of indexes by specifying where to start and where to end the range.\n",
    "\n",
    "# When specifying a range, the return value will be a new list/tuple with the specified items.\n",
    "\n",
    "# Example find the 2nd third and 4th numbers from mylist:\n",
    "mylist=[1,2,3,4]\n",
    "mylist[1:5]  # [starting index: ending index but not included]"
   ]
  },
  {
   "cell_type": "code",
   "execution_count": 16,
   "metadata": {},
   "outputs": [
    {
     "name": "stdout",
     "output_type": "stream",
     "text": [
      "['A', 'B', 'C', 'D', 'E']\n"
     ]
    },
    {
     "data": {
      "text/plain": [
       "['A', 'B', 'C', 'D']"
      ]
     },
     "execution_count": 16,
     "metadata": {},
     "output_type": "execute_result"
    }
   ],
   "source": [
    "# access the first 3 items on mytuple:\n",
    "mytuple=('A B C D E'.split(\" \"))  # split the string by a blank space and return a collection  of items\n",
    "print(mytuple)\n",
    "mytuple[:4]  # find the first 4 item inside the square brackets the first index could be 0 [0:4]or just leave it blank"
   ]
  },
  {
   "cell_type": "code",
   "execution_count": null,
   "metadata": {},
   "outputs": [],
   "source": []
  },
  {
   "cell_type": "code",
   "execution_count": 17,
   "metadata": {},
   "outputs": [
    {
     "data": {
      "text/plain": [
       "['apple', 'apple', 'orange', 'peach']"
      ]
     },
     "execution_count": 17,
     "metadata": {},
     "output_type": "execute_result"
    }
   ],
   "source": [
    "#a. Find the first 4 items from mylist1:\n",
    "\n",
    "mylist1[:4]"
   ]
  },
  {
   "cell_type": "code",
   "execution_count": 18,
   "metadata": {},
   "outputs": [
    {
     "data": {
      "text/plain": [
       "['1', '3', '5', '7', '9']"
      ]
     },
     "execution_count": 18,
     "metadata": {},
     "output_type": "execute_result"
    }
   ],
   "source": [
    "# b. start from the first find every other item from:\n",
    "mytuple=(\"1 2 3 4 5 6 7 8 9 10\". split(\" \"))\n",
    "mytuple\n",
    "mytuple[::2]"
   ]
  },
  {
   "cell_type": "code",
   "execution_count": null,
   "metadata": {},
   "outputs": [],
   "source": []
  },
  {
   "cell_type": "code",
   "execution_count": 19,
   "metadata": {},
   "outputs": [
    {
     "name": "stdout",
     "output_type": "stream",
     "text": [
      "False\n",
      "True\n"
     ]
    }
   ],
   "source": [
    "# c1 and c2: sets are not indexed so you can't access to individual item in a particular set.\n",
    "# but you could check if an item in a set:\n",
    "myset={2,3,6,4,\"Hi\"}\n",
    "print(5 in myset)\n",
    "print(\"Hi\" in myset)"
   ]
  },
  {
   "cell_type": "code",
   "execution_count": 20,
   "metadata": {},
   "outputs": [
    {
     "name": "stdout",
     "output_type": "stream",
     "text": [
      "True\n",
      "True\n"
     ]
    }
   ],
   "source": [
    "# Can you also check if an object or item in a list or tuple using the same way?\n",
    "mylist=[2,3,6,4,\"Hi\"]\n",
    "mytuple=(2,3,6,4,\"Hi\")\n",
    "print(2 in mylist)\n",
    "print(\"Hi\" in mytuple)"
   ]
  },
  {
   "cell_type": "code",
   "execution_count": null,
   "metadata": {},
   "outputs": [],
   "source": []
  },
  {
   "cell_type": "code",
   "execution_count": 21,
   "metadata": {},
   "outputs": [
    {
     "name": "stdout",
     "output_type": "stream",
     "text": [
      "cherry\n"
     ]
    }
   ],
   "source": [
    "# d1: You can access the items of a dictionary by referring to its key name, inside square brackets:\n",
    "# Find the value for the key \" f5\" from mydict1:\n",
    "x= mydict1['f5']\n",
    "print(x)"
   ]
  },
  {
   "cell_type": "code",
   "execution_count": 22,
   "metadata": {},
   "outputs": [
    {
     "name": "stdout",
     "output_type": "stream",
     "text": [
      "orange\n"
     ]
    }
   ],
   "source": [
    "# d2: use method called get() to get the value for the key\"f2\" :\n",
    "x=mydict1.get(\"f2\")\n",
    "print(x)"
   ]
  },
  {
   "cell_type": "code",
   "execution_count": 23,
   "metadata": {},
   "outputs": [
    {
     "name": "stdout",
     "output_type": "stream",
     "text": [
      "None\n"
     ]
    }
   ],
   "source": [
    "# d3: Can you find out the key if you konw the corresponding value??:\n",
    "\n",
    "s = mydict1.get('orange')\n",
    "print(s)"
   ]
  },
  {
   "cell_type": "code",
   "execution_count": 24,
   "metadata": {},
   "outputs": [
    {
     "ename": "KeyError",
     "evalue": "'orange'",
     "output_type": "error",
     "traceback": [
      "\u001b[1;31m---------------------------------------------------------------------------\u001b[0m",
      "\u001b[1;31mKeyError\u001b[0m                                  Traceback (most recent call last)",
      "\u001b[1;32m<ipython-input-24-3a68a5143469>\u001b[0m in \u001b[0;36m<module>\u001b[1;34m\u001b[0m\n\u001b[1;32m----> 1\u001b[1;33m \u001b[0mmydict1\u001b[0m\u001b[1;33m[\u001b[0m\u001b[1;34m\"orange\"\u001b[0m\u001b[1;33m]\u001b[0m\u001b[1;33m\u001b[0m\u001b[1;33m\u001b[0m\u001b[0m\n\u001b[0m",
      "\u001b[1;31mKeyError\u001b[0m: 'orange'"
     ]
    }
   ],
   "source": [
    "mydict1[\"orange\"]  # no you cannot find the key by using the value"
   ]
  },
  {
   "cell_type": "code",
   "execution_count": null,
   "metadata": {},
   "outputs": [],
   "source": []
  }
 ],
 "metadata": {
  "kernelspec": {
   "display_name": "Python 3",
   "language": "python",
   "name": "python3"
  },
  "language_info": {
   "codemirror_mode": {
    "name": "ipython",
    "version": 3
   },
   "file_extension": ".py",
   "mimetype": "text/x-python",
   "name": "python",
   "nbconvert_exporter": "python",
   "pygments_lexer": "ipython3",
   "version": "3.7.1"
  }
 },
 "nbformat": 4,
 "nbformat_minor": 2
}
