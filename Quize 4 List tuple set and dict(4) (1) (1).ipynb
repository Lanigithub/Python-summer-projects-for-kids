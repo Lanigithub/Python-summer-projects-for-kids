{
 "cells": [
  {
   "cell_type": "markdown",
   "metadata": {},
   "source": [
    "# Quiz 4  methods of list, tuple, set and dictionary:\n",
    "\n",
    "#### List methods: \n",
    "append,clear(),copy(), sort(),insert(location, new item),pop(index), remove(item),reverse(),extend(), count(),index()\n",
    "\n",
    "#### Tuple methods: count(), index()\n",
    "\n",
    "#### Set methods: add(), union(set1,set2),   pop()-random item; remove(item),x.pdate(y) ;  discard(specific item); clear( )-all\n",
    "intersection( ) -find the common items; copy()\n",
    "\n",
    "#### Dictionary: copy(); clear(), update(key: value) -insert new pair; keys() ; values(), get(key), pop(key name); \n",
    "popitem()-remove the last inserted pair; \n",
    "item()-The items() method returns a view object. The view object contains the key-value pairs of the dictionary, as tuples in a list.\n",
    "dict.fromkeys)-The fromkeys() method returns a dictionary with the specified keys and the specified value\n"
   ]
  },
  {
   "cell_type": "markdown",
   "metadata": {},
   "source": [
    "### List methods: "
   ]
  },
  {
   "cell_type": "code",
   "execution_count": 11,
   "metadata": {},
   "outputs": [],
   "source": [
    "# Create two lists: \n",
    "L1=['husky','golden retriever','pitbull']\n",
    "L2= ['akita','bulldog','pug']"
   ]
  },
  {
   "cell_type": "code",
   "execution_count": 6,
   "metadata": {},
   "outputs": [
    {
     "name": "stdout",
     "output_type": "stream",
     "text": [
      "['husky', 'golden retriever', 'pitbull', 'eskimo']\n"
     ]
    }
   ],
   "source": [
    "# Use append() method to add a new item to the end of L1\n",
    "L1.append('eskimo')\n",
    "print(L1)"
   ]
  },
  {
   "cell_type": "code",
   "execution_count": 9,
   "metadata": {},
   "outputs": [
    {
     "name": "stdout",
     "output_type": "stream",
     "text": [
      "['husky', 'golden retriever', 'pitbull', 'akita', 'bulldog', 'pug']\n"
     ]
    }
   ],
   "source": [
    "# join L1 and L2 and print out the new List L3\n",
    "L3 = L1 + L2 \n",
    "print(L3)"
   ]
  },
  {
   "cell_type": "code",
   "execution_count": 7,
   "metadata": {},
   "outputs": [
    {
     "name": "stdout",
     "output_type": "stream",
     "text": [
      "['akita', 'cocker spaniel', 'bulldog', 'pug']\n"
     ]
    }
   ],
   "source": [
    "# insert a new item to L2 on its 2nd position:\n",
    "L2.insert(1, 'cocker spaniel')\n",
    "print(L2)"
   ]
  },
  {
   "cell_type": "code",
   "execution_count": 11,
   "metadata": {},
   "outputs": [
    {
     "data": {
      "text/plain": [
       "['husky', 'pitbull']"
      ]
     },
     "execution_count": 11,
     "metadata": {},
     "output_type": "execute_result"
    }
   ],
   "source": [
    "# remove an item from L1\n",
    "L1.pop(1)\n",
    "L1"
   ]
  },
  {
   "cell_type": "code",
   "execution_count": 3,
   "metadata": {},
   "outputs": [
    {
     "data": {
      "text/plain": [
       "['akita', 'bulldog']"
      ]
     },
     "execution_count": 3,
     "metadata": {},
     "output_type": "execute_result"
    }
   ],
   "source": [
    "# use pop(index) to remove the 3rd item from L2:\n",
    "L2.pop(2)\n",
    "L2\n"
   ]
  },
  {
   "cell_type": "code",
   "execution_count": 4,
   "metadata": {},
   "outputs": [
    {
     "data": {
      "text/plain": [
       "['akita', 'bulldog', 'husky', 'golden retriever', 'pitbull']"
      ]
     },
     "execution_count": 4,
     "metadata": {},
     "output_type": "execute_result"
    }
   ],
   "source": [
    "# use extend() to add L1 to L2 and print out the new list L3: \n",
    "L2.extend(L1)\n",
    "L2\n"
   ]
  },
  {
   "cell_type": "code",
   "execution_count": 10,
   "metadata": {},
   "outputs": [
    {
     "data": {
      "text/plain": [
       "['akita', 'bulldog', 'golden retriever', 'husky', 'pitbull', 'pug']"
      ]
     },
     "execution_count": 10,
     "metadata": {},
     "output_type": "execute_result"
    }
   ],
   "source": [
    "# sort the list L3:\n",
    "L3.sort()\n",
    "L3"
   ]
  },
  {
   "cell_type": "code",
   "execution_count": 15,
   "metadata": {},
   "outputs": [
    {
     "data": {
      "text/plain": [
       "2"
      ]
     },
     "execution_count": 15,
     "metadata": {},
     "output_type": "execute_result"
    }
   ],
   "source": [
    "# find the index for L1: \n",
    "L1.index('pitbull')\n",
    "\n"
   ]
  },
  {
   "cell_type": "markdown",
   "metadata": {},
   "source": [
    "#### Tuple  methods:"
   ]
  },
  {
   "cell_type": "code",
   "execution_count": 16,
   "metadata": {},
   "outputs": [
    {
     "name": "stdout",
     "output_type": "stream",
     "text": [
      "('weeping willow', 'giant sequoia', 'blue spruce')\n"
     ]
    }
   ],
   "source": [
    "# create a tuple T1:\n",
    "T1=('weeping willow','giant sequoia','blue spruce')\n",
    "print(T1)"
   ]
  },
  {
   "cell_type": "code",
   "execution_count": 18,
   "metadata": {},
   "outputs": [
    {
     "data": {
      "text/plain": [
       "1"
      ]
     },
     "execution_count": 18,
     "metadata": {},
     "output_type": "execute_result"
    }
   ],
   "source": [
    "# Count the items in T1\n",
    "T1.count('giant sequoia')"
   ]
  },
  {
   "cell_type": "code",
   "execution_count": 19,
   "metadata": {},
   "outputs": [
    {
     "data": {
      "text/plain": [
       "2"
      ]
     },
     "execution_count": 19,
     "metadata": {},
     "output_type": "execute_result"
    }
   ],
   "source": [
    "# search the index of T1\n",
    "T1.index('blue spruce')\n"
   ]
  },
  {
   "cell_type": "code",
   "execution_count": 22,
   "metadata": {},
   "outputs": [
    {
     "name": "stdout",
     "output_type": "stream",
     "text": [
      "('weeping willow', 'giant sequoia', 'blue spruce', 'banyan', 'silver maple', 'burflower tree')\n"
     ]
    }
   ],
   "source": [
    "# Create a new tuple T2 and join T1 and T2 together: \n",
    "T2=('banyan','silver maple','burflower tree')\n",
    "T3 = T1 + T2\n",
    "print(T3)"
   ]
  },
  {
   "cell_type": "markdown",
   "metadata": {},
   "source": [
    "###  Sets Methods"
   ]
  },
  {
   "cell_type": "code",
   "execution_count": 50,
   "metadata": {},
   "outputs": [
    {
     "name": "stdout",
     "output_type": "stream",
     "text": [
      "{'moth', 'cicada', 'cricket'}\n"
     ]
    }
   ],
   "source": [
    "# Create a set S1:\n",
    "S1= {'cricket','moth','cicada'}\n",
    "print(S1)"
   ]
  },
  {
   "cell_type": "code",
   "execution_count": 26,
   "metadata": {},
   "outputs": [
    {
     "data": {
      "text/plain": [
       "{'cicada', 'cricket', 'honey bee', 'moth'}"
      ]
     },
     "execution_count": 26,
     "metadata": {},
     "output_type": "execute_result"
    }
   ],
   "source": [
    "# Use add(\"Item\") to add an element to the set S1:\n",
    "S1.add('honey bee')\n",
    "S1"
   ]
  },
  {
   "cell_type": "code",
   "execution_count": 53,
   "metadata": {},
   "outputs": [
    {
     "name": "stdout",
     "output_type": "stream",
     "text": [
      "{'mosquito', 'stink bug', 'monarch butterfly', 'moth', 'cicada', 'cricket'}\n"
     ]
    }
   ],
   "source": [
    "# Create 2nd set S2 and use S1.union(S2) to add all elements from S1 and S2, print out the new set S3:\n",
    "S2= {'mosquito','stink bug','monarch butterfly'}\n",
    "S3=S1.union(S2)\n",
    "print(S3)"
   ]
  },
  {
   "cell_type": "code",
   "execution_count": 37,
   "metadata": {},
   "outputs": [
    {
     "name": "stdout",
     "output_type": "stream",
     "text": [
      "{'earworm', 'firebrat', 'silverfish', 'mealworm', 'superworm', 'cockroach'}\n"
     ]
    }
   ],
   "source": [
    "# create two sets X and Y and use X.update(Y) to insert iterms from set Y to set X print out the new set : \n",
    "X= {'mealworm','superworm','silverfish'}\n",
    "Y= {'firebrat','cockroach','earworm'}\n",
    "X.update(Y)\n",
    "print(X)\n"
   ]
  },
  {
   "cell_type": "code",
   "execution_count": 40,
   "metadata": {},
   "outputs": [
    {
     "data": {
      "text/plain": [
       "{'cockroach', 'firebrat', 'mealworm', 'silverfish', 'superworm'}"
      ]
     },
     "execution_count": 40,
     "metadata": {},
     "output_type": "execute_result"
    }
   ],
   "source": [
    "# Use X.pop() to remove a random item from set X:\n",
    "X.pop()\n",
    "X"
   ]
  },
  {
   "cell_type": "code",
   "execution_count": 48,
   "metadata": {},
   "outputs": [
    {
     "ename": "KeyError",
     "evalue": "'moth'",
     "output_type": "error",
     "traceback": [
      "\u001b[1;31m---------------------------------------------------------------------------\u001b[0m",
      "\u001b[1;31mKeyError\u001b[0m                                  Traceback (most recent call last)",
      "\u001b[1;32m<ipython-input-48-eab9719fe264>\u001b[0m in \u001b[0;36m<module>\u001b[1;34m\u001b[0m\n\u001b[0;32m      1\u001b[0m \u001b[1;31m# use remove(item) to remove a specific item from set S1 ---remove(item) will cause an error if the item does not exist:\u001b[0m\u001b[1;33m\u001b[0m\u001b[1;33m\u001b[0m\u001b[1;33m\u001b[0m\u001b[0m\n\u001b[1;32m----> 2\u001b[1;33m \u001b[0mS1\u001b[0m\u001b[1;33m.\u001b[0m\u001b[0mremove\u001b[0m\u001b[1;33m(\u001b[0m\u001b[1;34m'moth'\u001b[0m\u001b[1;33m)\u001b[0m\u001b[1;33m\u001b[0m\u001b[1;33m\u001b[0m\u001b[0m\n\u001b[0m\u001b[0;32m      3\u001b[0m \u001b[0mprint\u001b[0m\u001b[1;33m(\u001b[0m\u001b[0mS1\u001b[0m\u001b[1;33m)\u001b[0m\u001b[1;33m\u001b[0m\u001b[1;33m\u001b[0m\u001b[0m\n",
      "\u001b[1;31mKeyError\u001b[0m: 'moth'"
     ]
    }
   ],
   "source": [
    "# use remove(item) to remove a specific item from set S1 ---remove(item) will cause an error if the item does not exist: \n",
    "S1.remove('moth')\n"
   ]
  },
  {
   "cell_type": "code",
   "execution_count": 49,
   "metadata": {},
   "outputs": [
    {
     "name": "stdout",
     "output_type": "stream",
     "text": [
      "{'cicada', 'cricket'}\n"
     ]
    }
   ],
   "source": [
    "print(S1)"
   ]
  },
  {
   "cell_type": "code",
   "execution_count": 51,
   "metadata": {},
   "outputs": [],
   "source": [
    "# Use discard(item) to remove a specific item from set S2:\n",
    "S2.discard('monarch butterfly')\n"
   ]
  },
  {
   "cell_type": "code",
   "execution_count": 52,
   "metadata": {},
   "outputs": [
    {
     "name": "stdout",
     "output_type": "stream",
     "text": [
      "{'mosquito', 'stink bug'}\n"
     ]
    }
   ],
   "source": [
    "print(S2)"
   ]
  },
  {
   "cell_type": "code",
   "execution_count": 54,
   "metadata": {},
   "outputs": [
    {
     "data": {
      "text/plain": [
       "{'cockroach', 'firebrat'}"
      ]
     },
     "execution_count": 54,
     "metadata": {},
     "output_type": "execute_result"
    }
   ],
   "source": [
    "# use X.intersection(Y) to find the items exist in both sets:\n",
    "X.intersection(Y)"
   ]
  },
  {
   "cell_type": "code",
   "execution_count": 55,
   "metadata": {},
   "outputs": [
    {
     "data": {
      "text/plain": [
       "{'mealworm', 'silverfish', 'superworm'}"
      ]
     },
     "execution_count": 55,
     "metadata": {},
     "output_type": "execute_result"
    }
   ],
   "source": [
    "# use X.difference(Y) to find the items exist in X but not in Y:\n",
    "X.difference(Y)"
   ]
  },
  {
   "cell_type": "code",
   "execution_count": 57,
   "metadata": {},
   "outputs": [
    {
     "name": "stdout",
     "output_type": "stream",
     "text": [
      "set()\n"
     ]
    }
   ],
   "source": [
    "# use clear() to clear the items from S3:\n",
    "S3.clear()\n",
    "print(S3)"
   ]
  },
  {
   "cell_type": "markdown",
   "metadata": {},
   "source": [
    "###  Dictionary methods"
   ]
  },
  {
   "cell_type": "code",
   "execution_count": 74,
   "metadata": {},
   "outputs": [
    {
     "name": "stdout",
     "output_type": "stream",
     "text": [
      "{1: 'mount everest', 2: 'mount fuji', 3: 'matterhorn'}\n"
     ]
    }
   ],
   "source": [
    "# Create a dictionary with the keys-values pairs D1:\n",
    "D1={\n",
    "    1:'mount everest',\n",
    "    2:'mount fuji',\n",
    "    3:'matterhorn'\n",
    "}\n",
    "print(D1)"
   ]
  },
  {
   "cell_type": "code",
   "execution_count": 60,
   "metadata": {},
   "outputs": [
    {
     "name": "stdout",
     "output_type": "stream",
     "text": [
      "{1: 'mount everest', 2: 'mount fuji', 3: 'matterhorn'}\n"
     ]
    }
   ],
   "source": [
    "# use X=D1.copy() to return a copy of D1, print out X:\n",
    "X=D1.copy()\n",
    "print(X)"
   ]
  },
  {
   "cell_type": "code",
   "execution_count": 61,
   "metadata": {},
   "outputs": [
    {
     "data": {
      "text/plain": [
       "dict_keys([1, 2, 3])"
      ]
     },
     "execution_count": 61,
     "metadata": {},
     "output_type": "execute_result"
    }
   ],
   "source": [
    "# use keys() to return a list K of all keys from D1:\n",
    "D1.keys()"
   ]
  },
  {
   "cell_type": "code",
   "execution_count": 62,
   "metadata": {},
   "outputs": [
    {
     "data": {
      "text/plain": [
       "dict_values(['mount everest', 'mount fuji', 'matterhorn'])"
      ]
     },
     "execution_count": 62,
     "metadata": {},
     "output_type": "execute_result"
    }
   ],
   "source": [
    "# use values() to return a list of all values  V  from D1\n",
    "D1.values()\n"
   ]
  },
  {
   "cell_type": "code",
   "execution_count": 1,
   "metadata": {},
   "outputs": [
    {
     "data": {
      "text/plain": [
       "'apple'"
      ]
     },
     "execution_count": 1,
     "metadata": {},
     "output_type": "execute_result"
    }
   ],
   "source": [
    "# use get(keyname) to get the value for the specific key: \n",
    "# example: \n",
    "D2= {\"1\": \"apple\", \"2\": \"banana\", \"3\": \" cutie\"}\n",
    "x= D2.get(\"1\")\n",
    "x"
   ]
  },
  {
   "cell_type": "code",
   "execution_count": 63,
   "metadata": {},
   "outputs": [
    {
     "data": {
      "text/plain": [
       "'matterhorn'"
      ]
     },
     "execution_count": 63,
     "metadata": {},
     "output_type": "execute_result"
    }
   ],
   "source": [
    "# use get(keyname) to get the value for the specific key from D1: \n",
    "D1.get(3)"
   ]
  },
  {
   "cell_type": "code",
   "execution_count": 65,
   "metadata": {},
   "outputs": [
    {
     "name": "stdout",
     "output_type": "stream",
     "text": [
      "{1: 'mount everest', 2: 'mount fuji', 3: 'matterhorn', 4: 'mont blanc'}\n"
     ]
    }
   ],
   "source": [
    "# use update() to insert a new key-value pair to D1 and then print D1: \n",
    "D1.update({4:'mont blanc'})\n",
    "print(D1)"
   ]
  },
  {
   "cell_type": "code",
   "execution_count": 67,
   "metadata": {},
   "outputs": [
    {
     "data": {
      "text/plain": [
       "dict_items([(1, 'mount everest'), (2, 'mount fuji'), (3, 'matterhorn'), (4, 'mont blanc')])"
      ]
     },
     "execution_count": 67,
     "metadata": {},
     "output_type": "execute_result"
    }
   ],
   "source": [
    "# use item() to return a list with tuples of the key-value pairs for D1:\n",
    "D1.items()"
   ]
  },
  {
   "cell_type": "code",
   "execution_count": 9,
   "metadata": {},
   "outputs": [
    {
     "name": "stdout",
     "output_type": "stream",
     "text": [
      "dict_items([('brand', 'Ford'), ('model', 'Mustang'), ('year', 2018)])\n"
     ]
    }
   ],
   "source": [
    "# When an item in the dictionary changes value, the view object also gets updated\n",
    "car = {\n",
    "  \"brand\": \"Ford\",\n",
    "  \"model\": \"Mustang\",\n",
    "  \"year\": 1964\n",
    "}\n",
    "\n",
    "x = car.items()\n",
    "\n",
    "car[\"year\"] = 2018\n",
    "\n",
    "print(x)"
   ]
  },
  {
   "cell_type": "code",
   "execution_count": 10,
   "metadata": {},
   "outputs": [
    {
     "data": {
      "text/plain": [
       "{'brand': 'Ford', 'model': 'Mustang', 'year': 2018}"
      ]
     },
     "execution_count": 10,
     "metadata": {},
     "output_type": "execute_result"
    }
   ],
   "source": [
    "car   # the dictionary also got update"
   ]
  },
  {
   "cell_type": "code",
   "execution_count": 73,
   "metadata": {},
   "outputs": [
    {
     "name": "stdout",
     "output_type": "stream",
     "text": [
      "{1: 'mount everest', 2: 'mount fuji', 3: 'matterhorn'}\n"
     ]
    }
   ],
   "source": [
    "# use dict.pop(\"keyname\") to remove the value and key pair from D1:\n",
    "D1.pop(4)\n",
    "print(D1)"
   ]
  },
  {
   "cell_type": "code",
   "execution_count": 75,
   "metadata": {},
   "outputs": [
    {
     "data": {
      "text/plain": [
       "(3, 'matterhorn')"
      ]
     },
     "execution_count": 75,
     "metadata": {},
     "output_type": "execute_result"
    }
   ],
   "source": [
    "# Use popitem() to remove the last inserted item from the dictionary car: \n",
    "\n",
    "D1.popitem()"
   ]
  },
  {
   "cell_type": "code",
   "execution_count": 76,
   "metadata": {},
   "outputs": [
    {
     "name": "stdout",
     "output_type": "stream",
     "text": [
      "{1: 'mount everest', 2: 'mount fuji'}\n"
     ]
    }
   ],
   "source": [
    "print(D1)"
   ]
  },
  {
   "cell_type": "code",
   "execution_count": 79,
   "metadata": {},
   "outputs": [
    {
     "name": "stdout",
     "output_type": "stream",
     "text": [
      "['A', 'B', 'C']\n"
     ]
    },
    {
     "data": {
      "text/plain": [
       "{1: ['A', 'B', 'C'], 2: ['A', 'B', 'C'], 3: ['A', 'B', 'C']}"
      ]
     },
     "execution_count": 79,
     "metadata": {},
     "output_type": "execute_result"
    }
   ],
   "source": [
    "# use  dict.fromkeys(keys, value (optiona)) to return a dictionary with the specified pairs:\n",
    "# Value(optional) is for all the keys,\n",
    "\n",
    "Keys= (1,2,3)\n",
    "Values= (\"A B C\".split())\n",
    "print(Values)\n",
    "D3= dict.fromkeys(Keys, Values)\n",
    "D3"
   ]
  },
  {
   "cell_type": "code",
   "execution_count": 77,
   "metadata": {},
   "outputs": [
    {
     "data": {
      "text/plain": [
       "{'A': None, 'B': None, 'C': None}"
      ]
     },
     "execution_count": 77,
     "metadata": {},
     "output_type": "execute_result"
    }
   ],
   "source": [
    "# Create a dictionary D4 with keys=(\"A\", \"B\", \" C\") and value =none  : \n",
    "k1=('A','B','C')\n",
    "D4=dict.fromkeys(k1)\n",
    "D4"
   ]
  },
  {
   "cell_type": "code",
   "execution_count": 80,
   "metadata": {},
   "outputs": [
    {
     "name": "stdout",
     "output_type": "stream",
     "text": [
      "{}\n"
     ]
    }
   ],
   "source": [
    "# use clear() to clear all items from D3 and print out D3: \n",
    "\n",
    "D3.clear()\n",
    "print(D3)"
   ]
  },
  {
   "cell_type": "code",
   "execution_count": null,
   "metadata": {},
   "outputs": [],
   "source": []
  }
 ],
 "metadata": {
  "kernelspec": {
   "display_name": "Python 3",
   "language": "python",
   "name": "python3"
  },
  "language_info": {
   "codemirror_mode": {
    "name": "ipython",
    "version": 3
   },
   "file_extension": ".py",
   "mimetype": "text/x-python",
   "name": "python",
   "nbconvert_exporter": "python",
   "pygments_lexer": "ipython3",
   "version": "3.8.8"
  }
 },
 "nbformat": 4,
 "nbformat_minor": 2
}
