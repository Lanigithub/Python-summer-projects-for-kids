{
 "cells": [
  {
   "cell_type": "markdown",
   "metadata": {},
   "source": [
    "### ** Quiz 3 List, Tuple, set and dictionary(2) continued\n",
    "1.  change, add, remove the collections of items\n",
    "2.  apply the methods and functions for each type \n"
   ]
  },
  {
   "cell_type": "markdown",
   "metadata": {},
   "source": [
    "### 1.  Create a list, tuple, set with the following items: apple, banana, orange , kiwi, apple"
   ]
  },
  {
   "cell_type": "code",
   "execution_count": 84,
   "metadata": {},
   "outputs": [
    {
     "name": "stdout",
     "output_type": "stream",
     "text": [
      "['apple', 'banana', 'orange', 'kiwi', 'apple']\n"
     ]
    }
   ],
   "source": [
    "#a. create a list: mylist=\n",
    "\n",
    "mylist=['apple','banana','orange','kiwi','apple']\n",
    "myList='apple banana orange kiwi apple'.split() #bryan did this\n",
    "print(myList)"
   ]
  },
  {
   "cell_type": "code",
   "execution_count": 74,
   "metadata": {},
   "outputs": [
    {
     "name": "stdout",
     "output_type": "stream",
     "text": [
      "('apple', 'banana', 'orange', 'kiwi', 'apple')\n"
     ]
    }
   ],
   "source": [
    "# b. Create a tuple: mytuple=\n",
    "mytuple=('apple','banana','orange','kiwi','apple')\n",
    "print(mytuple)"
   ]
  },
  {
   "cell_type": "code",
   "execution_count": 99,
   "metadata": {},
   "outputs": [
    {
     "name": "stdout",
     "output_type": "stream",
     "text": [
      "{'apple', 'orange', 'banana', 'kiwi'}\n"
     ]
    }
   ],
   "source": [
    "#c. Create a set: myset=\n",
    "myset={'apple','banana','orange','kiwi','apple'}\n",
    "print(myset)"
   ]
  },
  {
   "cell_type": "code",
   "execution_count": 119,
   "metadata": {},
   "outputs": [
    {
     "name": "stdout",
     "output_type": "stream",
     "text": [
      "{1: 'apple', 2: 'orange', 3: 'kiwi', 4: 'orange'}\n"
     ]
    }
   ],
   "source": [
    "# d. Create a dictionay with the following 1: apple, 2: orange, 3: Kiwi, 4: orange: mydict=\n",
    "mydict={\n",
    "    1:'apple',\n",
    "    2:'orange',\n",
    "   3:'kiwi',\n",
    "    4:'orange'\n",
    "}\n",
    "print(mydict)"
   ]
  },
  {
   "cell_type": "markdown",
   "metadata": {},
   "source": [
    "### 2.  Change an item in the list, set or dictionary ( tutple is unchangable or unmuted)"
   ]
  },
  {
   "cell_type": "code",
   "execution_count": 22,
   "metadata": {},
   "outputs": [
    {
     "name": "stdout",
     "output_type": "stream",
     "text": [
      "['apple', 'pineapple', 'orange', 'kiwi', 'apple']\n"
     ]
    }
   ],
   "source": [
    "# a. For a list: To change the value of a specific item, refer to the index number:\n",
    "# list[0] = 5  change the first item to 5 for the list\n",
    "\n",
    "# change the 2nd item of the list and print the new list:\n",
    "\n",
    "mylist[1]= 'pineapple'\n",
    "print(mylist)"
   ]
  },
  {
   "cell_type": "code",
   "execution_count": 26,
   "metadata": {},
   "outputs": [
    {
     "name": "stdout",
     "output_type": "stream",
     "text": [
      "['apple', 'banana', 'byran is bad', 'im bad at coding']\n"
     ]
    }
   ],
   "source": [
    "# change the 1st to the 3rd items in mylist and print the new list: \n",
    "# example: using slicing: list[0:4] =[\"Kiwi\", \"apple\", \"peach\"]\n",
    "# change the 2nd to 4th items in mylist: \n",
    "mylist[2:]=['byran is bad','im bad at coding']\n",
    "print(mylist)"
   ]
  },
  {
   "cell_type": "code",
   "execution_count": 34,
   "metadata": {},
   "outputs": [
    {
     "name": "stdout",
     "output_type": "stream",
     "text": [
      "['apple', 'banana', 'orange', 'dragonfruit', 'kiwi', 'apple']\n"
     ]
    }
   ],
   "source": [
    "# insert new item: To insert a new list item, without replacing any of the existing values, we can use the insert() method.\n",
    "\n",
    "# The insert(2, \" new value\") method inserts an item at the specified index\n",
    "\n",
    "# insert new fruit to 4th item of mylist and print mylist: \n",
    "\n",
    "mylist.insert(3,'dragonfruit')\n",
    "print(mylist)"
   ]
  },
  {
   "cell_type": "code",
   "execution_count": null,
   "metadata": {},
   "outputs": [],
   "source": []
  },
  {
   "cell_type": "code",
   "execution_count": 17,
   "metadata": {},
   "outputs": [
    {
     "name": "stdout",
     "output_type": "stream",
     "text": [
      "['a', 'm', 'c', 'd']\n"
     ]
    }
   ],
   "source": [
    "# b. Tuple is unmutable but we can convert the tuple into list and then change the item and convert it back to tuple:\n",
    "# Example \n",
    "T= (\"a,b,c,d\".split(\",\"))\n",
    "y=list(T)\n",
    "y[1]=\"m\"\n",
    "x= tuple(y)\n",
    "print(y)"
   ]
  },
  {
   "cell_type": "code",
   "execution_count": 36,
   "metadata": {},
   "outputs": [
    {
     "name": "stdout",
     "output_type": "stream",
     "text": [
      "('apple', 'banana', 'peach', 'kiwi', 'apple')\n"
     ]
    }
   ],
   "source": [
    "# Change the 3rd item of mytuple into \" peach\":\n",
    "\n",
    "sub=list(mytuple)\n",
    "sub[2]='peach'\n",
    "mytuple=tuple(sub)\n",
    "print(mytuple)"
   ]
  },
  {
   "cell_type": "code",
   "execution_count": 43,
   "metadata": {},
   "outputs": [
    {
     "name": "stdout",
     "output_type": "stream",
     "text": [
      "[('apple', 2557513550704), ('orange', 2557513550832), ('banana', 2557513550768), ('kiwi', 2557513550896)]\n"
     ]
    }
   ],
   "source": [
    "\n",
    "print([(item,id(item)) for item in myset]  )"
   ]
  },
  {
   "cell_type": "code",
   "execution_count": 22,
   "metadata": {},
   "outputs": [
    {
     "name": "stdout",
     "output_type": "stream",
     "text": [
      "[('c', 2831068076440), ('a', 2831068211272), ('d', 2831068123464), ('b', 2831068209592)]\n",
      "['c', 'n', 'd', 'b']\n",
      "{'n', 'c', 'd', 'b'}\n"
     ]
    }
   ],
   "source": [
    "# c. can you change an item in a set by converting it to a list and then change an item? Try it with myset:\n",
    "D= {\"a\",\"b\", \"c\", \"d\"}\n",
    "print([(item,id(item)) for item in D]  )  # want to see the id(item) in the set that's how the set order the item in  desc\n",
    "M=list(D)      # conver the set into list\n",
    "M[1]=\"n\"        # change the 2nd item in the list M\n",
    "print(M)         # print out the list M\n",
    "Y=set(M)       # convert it back to set\n",
    "print(Y)              # print out the new set and oviously the id of the string \" n\" is smaller than the id of the string\"c\"\n"
   ]
  },
  {
   "cell_type": "code",
   "execution_count": 39,
   "metadata": {},
   "outputs": [
    {
     "name": "stdout",
     "output_type": "stream",
     "text": [
      "{'apple', 'durian', 'banana', 'kiwi'}\n"
     ]
    }
   ],
   "source": [
    "# change the 2nd item in myset( hint onvert it to list first):\n",
    "sub=list(myset)\n",
    "sub[1]='durian'\n",
    "myset=set(sub)\n",
    "print(myset)\n"
   ]
  },
  {
   "cell_type": "code",
   "execution_count": null,
   "metadata": {},
   "outputs": [],
   "source": [
    "# d. For a dictionary : You can change the value of a specific item by referring to its key name:\n",
    "# change the value for the 2nd key name in mydict:             example: Dict[1]= \"pie\"\n",
    "\n"
   ]
  },
  {
   "cell_type": "code",
   "execution_count": 26,
   "metadata": {},
   "outputs": [
    {
     "name": "stdout",
     "output_type": "stream",
     "text": [
      "{1: [1, 2, 3, 4], 2: 'L'}\n"
     ]
    }
   ],
   "source": [
    "# Use mydict.update({old key name: new value}) to change the value for the 3rd key name: \n",
    "# Example:\n",
    "dict1 = {1: \"m\", 2: \"L\"}\n",
    "dict1.update({1:[1,2,3,4]})  # change the value of key 1 to a list from \"m\"\n",
    "print(dict1)\n"
   ]
  },
  {
   "cell_type": "code",
   "execution_count": 46,
   "metadata": {},
   "outputs": [
    {
     "name": "stdout",
     "output_type": "stream",
     "text": [
      "{1: 'rambutan', 2: 'orange', 3: 'kiwi', 4: 'orange'}\n"
     ]
    }
   ],
   "source": [
    "# change the value of the 1st item in mydict using update() method\n",
    "mydict.update({1:'rambutan'})\n",
    "print(mydict)"
   ]
  },
  {
   "cell_type": "code",
   "execution_count": 47,
   "metadata": {},
   "outputs": [
    {
     "ename": "AttributeError",
     "evalue": "'list' object has no attribute 'update'",
     "output_type": "error",
     "traceback": [
      "\u001b[1;31m---------------------------------------------------------------------------\u001b[0m",
      "\u001b[1;31mAttributeError\u001b[0m                            Traceback (most recent call last)",
      "\u001b[1;32m<ipython-input-47-0023b8a76d0c>\u001b[0m in \u001b[0;36m<module>\u001b[1;34m\u001b[0m\n\u001b[0;32m      1\u001b[0m \u001b[1;31m# Question: can you use update() method to change an item in a list?\u001b[0m\u001b[1;33m\u001b[0m\u001b[1;33m\u001b[0m\u001b[1;33m\u001b[0m\u001b[0m\n\u001b[1;32m----> 2\u001b[1;33m \u001b[0mmylist\u001b[0m\u001b[1;33m.\u001b[0m\u001b[0mupdate\u001b[0m\u001b[1;33m(\u001b[0m\u001b[1;33m{\u001b[0m\u001b[1;33m}\u001b[0m\u001b[1;33m)\u001b[0m\u001b[1;33m\u001b[0m\u001b[1;33m\u001b[0m\u001b[0m\n\u001b[0m",
      "\u001b[1;31mAttributeError\u001b[0m: 'list' object has no attribute 'update'"
     ]
    }
   ],
   "source": [
    "# Question: can you use update() method to change an item in a list?\n",
    "mylist.update({}) #lol no you can't"
   ]
  },
  {
   "cell_type": "markdown",
   "metadata": {},
   "source": [
    "### 3.  add item to the list, tuple and dictionary "
   ]
  },
  {
   "cell_type": "code",
   "execution_count": 60,
   "metadata": {},
   "outputs": [
    {
     "data": {
      "text/plain": [
       "[1, 2, 3, 4, 5]"
      ]
     },
     "execution_count": 60,
     "metadata": {},
     "output_type": "execute_result"
    }
   ],
   "source": [
    "# a. For a list: To add an item to the end of the list, use the append() method:\n",
    "# example:\n",
    "newlist= [1,2,3,4]\n",
    "newlist.append(5)\n",
    "newlist"
   ]
  },
  {
   "cell_type": "code",
   "execution_count": 32,
   "metadata": {},
   "outputs": [
    {
     "data": {
      "text/plain": [
       "[1, 2, 3, 4, 5, (1, 2, 4)]"
      ]
     },
     "execution_count": 32,
     "metadata": {},
     "output_type": "execute_result"
    }
   ],
   "source": [
    "newlist.append((1,2,4)) # you could add any iterable object( tuple, set and dict)\n",
    "newlist"
   ]
  },
  {
   "cell_type": "code",
   "execution_count": 48,
   "metadata": {},
   "outputs": [
    {
     "data": {
      "text/plain": [
       "['apple', 'banana', 'orange', 'dragonfruit', 'kiwi', 'apple', 'Hi']"
      ]
     },
     "execution_count": 48,
     "metadata": {},
     "output_type": "execute_result"
    }
   ],
   "source": [
    "# Add an object \" Hi\" to mylist:\n",
    "mylist.append('Hi')\n",
    "mylist"
   ]
  },
  {
   "cell_type": "code",
   "execution_count": 61,
   "metadata": {},
   "outputs": [
    {
     "data": {
      "text/plain": [
       "[1, 2, 'Hi', 3, 4, 5]"
      ]
     },
     "execution_count": 61,
     "metadata": {},
     "output_type": "execute_result"
    }
   ],
   "source": [
    "# To insert a list item at a specified index, use the insert() method: \n",
    "newlist.insert(2, \"Hi\")  # insert a new object to the location with index 2 which is the 3rd item in the list\n",
    "newlist"
   ]
  },
  {
   "cell_type": "code",
   "execution_count": 53,
   "metadata": {},
   "outputs": [
    {
     "data": {
      "text/plain": [
       "['Hello', 'apple', 'banana', 'orange', 'kiwi', 'apple']"
      ]
     },
     "execution_count": 53,
     "metadata": {},
     "output_type": "execute_result"
    }
   ],
   "source": [
    "# add \"Hello\" to mylist using insert() method:\n",
    "\n",
    "mylist.insert(0, 'Hello')\n",
    "mylist"
   ]
  },
  {
   "cell_type": "code",
   "execution_count": 62,
   "metadata": {},
   "outputs": [
    {
     "data": {
      "text/plain": [
       "[1, 2, 'Hi', 3, 4, 5, 1, 2, 3]"
      ]
     },
     "execution_count": 62,
     "metadata": {},
     "output_type": "execute_result"
    }
   ],
   "source": [
    "# To add elements from another list or any iterable object( tuple, set, dict) to the current list, use the extend() method\n",
    "newlist.extend(tuple([1,2,3]))\n",
    "newlist"
   ]
  },
  {
   "cell_type": "code",
   "execution_count": 65,
   "metadata": {},
   "outputs": [
    {
     "data": {
      "text/plain": [
       "['Hello', 'apple', 'banana', 'orange', 'kiwi', 'apple', 8, 9, 7, 8, 9, 7]"
      ]
     },
     "execution_count": 65,
     "metadata": {},
     "output_type": "execute_result"
    }
   ],
   "source": [
    "# add items from another set S={8,7,9} to mylist using extend() method:\n",
    "S={8,7,9}\n",
    "mylist.extend(S)\n",
    "mylist"
   ]
  },
  {
   "cell_type": "markdown",
   "metadata": {},
   "source": [
    "#### b. Since tuples are immutable, they do not have a build-in append() method, but there are other ways to add items to a tuple\n",
    "####  b1. convert tuple to a list use the above list method to add items\n",
    "#### b2. you are allowed to add tuple to another tuple using + "
   ]
  },
  {
   "cell_type": "code",
   "execution_count": 36,
   "metadata": {},
   "outputs": [
    {
     "name": "stdout",
     "output_type": "stream",
     "text": [
      "(1, 2, 36, 'I')\n"
     ]
    }
   ],
   "source": [
    "\n",
    "#  make a new tuple with one item in it with , and then add it to the existing tuple:\n",
    "tuple=(1,2,36)\n",
    "T=(\"I\",)\n",
    "tuple+=T\n",
    "print(tuple)\n"
   ]
  },
  {
   "cell_type": "code",
   "execution_count": 75,
   "metadata": {},
   "outputs": [
    {
     "name": "stdout",
     "output_type": "stream",
     "text": [
      "('apple', 'banana', 'orange', 'kiwi', 'apple', 'Happy')\n"
     ]
    }
   ],
   "source": [
    "# Now add item \"Happy\" to mytuple using either b1 or b2:\n",
    "hm=('Happy',)\n",
    "mytuple+=hm\n",
    "print(mytuple)\n",
    "\n"
   ]
  },
  {
   "cell_type": "code",
   "execution_count": null,
   "metadata": {},
   "outputs": [],
   "source": []
  },
  {
   "cell_type": "markdown",
   "metadata": {},
   "source": [
    "####  c. For a set: Once a set is created, you cannot change its items, but you can add new items\n",
    "#c1 use add() method to add a new item\n",
    "#### c2: To add items from another set into the current set, use the update() method.\n",
    "####  The object in the update() method does not have to be a set,\n",
    "####  it can be any iterable object (tuples, lists, dictionaries etc.)"
   ]
  },
  {
   "cell_type": "code",
   "execution_count": 69,
   "metadata": {},
   "outputs": [
    {
     "name": "stdout",
     "output_type": "stream",
     "text": [
      "{'orange', 4, 5, 6, 7, 'banana', 'apple', 'kiwi'}\n"
     ]
    }
   ],
   "source": [
    "#C2. Add a list[4,5,6,7] to myset using update() method and print out the new set:\n",
    "list=[4,5,6,7]\n",
    "myset.update(list)\n",
    "print(myset)\n"
   ]
  },
  {
   "cell_type": "code",
   "execution_count": 70,
   "metadata": {},
   "outputs": [
    {
     "name": "stdout",
     "output_type": "stream",
     "text": [
      "[('orange', 2557513550832), (4, 140710999500688), (5, 140710999500720), (6, 140710999500752), (7, 140710999500784), ('banana', 2557513550768), ('apple', 2557513550704), ('kiwi', 2557513550896)]\n"
     ]
    }
   ],
   "source": [
    "print([(item,id(item)) for item in myset]  )"
   ]
  },
  {
   "cell_type": "code",
   "execution_count": 73,
   "metadata": {},
   "outputs": [
    {
     "name": "stdout",
     "output_type": "stream",
     "text": [
      "{'orange', 'banana', 'apple', 'kiwi', 'Hello'}\n"
     ]
    }
   ],
   "source": [
    "# c1 Add item \"Hello\"  to myset using add() function\n",
    "myset.add('Hello')\n",
    "print(myset)"
   ]
  },
  {
   "cell_type": "markdown",
   "metadata": {},
   "source": [
    "#### d. for a dictionary: \n",
    "####  d1: Adding an item to the dictionary is done by using a new index key and assigning a value to it  \n",
    "D[\"new key\"]=\"new value\"\n",
    "#### d2. The update() method will update the dictionary with the items from a given argument. If the item does not exist, the item will be added.  Dict.update({new key: new value})\n",
    "\n",
    "#### The argument must be a dictionary, or an iterable object withnew key:value pairs"
   ]
  },
  {
   "cell_type": "code",
   "execution_count": 78,
   "metadata": {},
   "outputs": [
    {
     "data": {
      "text/plain": [
       "{1: 'apple', 2: 'orange', 3: 'kiwi', 4: 'orange', 'L': 'Hello'}"
      ]
     },
     "execution_count": 78,
     "metadata": {},
     "output_type": "execute_result"
    }
   ],
   "source": [
    "# Use d1 or d2 method to add a new value \" Hello\" to a new key \"L\" to mydict and print the new dict:\n",
    "\n",
    "mydict.update({'L':'Hello'})\n",
    "mydict"
   ]
  },
  {
   "cell_type": "markdown",
   "metadata": {},
   "source": [
    "### 4. remove an item from a list tuple set or dictionary: "
   ]
  },
  {
   "cell_type": "markdown",
   "metadata": {},
   "source": [
    "####  a. for a list:\n",
    "####  a1. The remove() method removes the specified item:--                            \n",
    "list.remove(\"item\")\n",
    "#### a2. The pop() method removes the specified index:--                                \n",
    "list.pop(2)  --remove the 3rd item\n",
    "####  a3. If you do not specify the index, the pop() method removes the last item :              \n",
    "list.pop()---remove the last item\n",
    "#### a4. The del keyword also removes the specified index: --                             \n",
    "del list[1] remove the 2nd item from the list\n",
    "#### a5. The del keyword can also delete the list completely:  --                        \n",
    "del list\n",
    "#### a6. The clear() method empties the list.\n",
    "\n",
    "#### The list still remains, but it has no content   \n",
    ":           list.clear()"
   ]
  },
  {
   "cell_type": "code",
   "execution_count": 80,
   "metadata": {},
   "outputs": [
    {
     "data": {
      "text/plain": [
       "['apple', 'banana', 'orange', 'kiwi', 'apple']"
      ]
     },
     "execution_count": 80,
     "metadata": {},
     "output_type": "execute_result"
    }
   ],
   "source": [
    "# print mylist\n",
    "\n",
    "mylist"
   ]
  },
  {
   "cell_type": "code",
   "execution_count": 81,
   "metadata": {},
   "outputs": [
    {
     "name": "stdout",
     "output_type": "stream",
     "text": [
      "['apple', 'banana', 'orange', 'apple']\n"
     ]
    }
   ],
   "source": [
    "# a1.remove the first item from mylist using list.remove(\"item\") and print out the new list:\n",
    "\n",
    "mylist.remove('kiwi')\n",
    "print(mylist)"
   ]
  },
  {
   "cell_type": "code",
   "execution_count": 83,
   "metadata": {},
   "outputs": [
    {
     "data": {
      "text/plain": [
       "['apple', 'banana', 'kiwi', 'apple']"
      ]
     },
     "execution_count": 83,
     "metadata": {},
     "output_type": "execute_result"
    }
   ],
   "source": [
    "# a2. use list.pop(index #) to remove the 3rd item from mylist and print it out:\n",
    "\n",
    "mylist.pop(2)\n",
    "mylist"
   ]
  },
  {
   "cell_type": "code",
   "execution_count": 85,
   "metadata": {},
   "outputs": [
    {
     "data": {
      "text/plain": [
       "['apple', 'orange', 'kiwi', 'apple']"
      ]
     },
     "execution_count": 85,
     "metadata": {},
     "output_type": "execute_result"
    }
   ],
   "source": [
    "# a4. use del list[index #] to remove the 2nd item from my list: \n",
    "del mylist[1]\n",
    "mylist"
   ]
  },
  {
   "cell_type": "code",
   "execution_count": 86,
   "metadata": {},
   "outputs": [
    {
     "name": "stdout",
     "output_type": "stream",
     "text": [
      "[]\n"
     ]
    }
   ],
   "source": [
    "# a6. use list.clear() to clear the list  and print out the empty list:\n",
    "mylist.clear()\n",
    "print(mylist)\n"
   ]
  },
  {
   "cell_type": "markdown",
   "metadata": {},
   "source": [
    "####  b. can you remove an item from a tuple by using tuple.remove(\"item\")?  "
   ]
  },
  {
   "cell_type": "code",
   "execution_count": null,
   "metadata": {},
   "outputs": [],
   "source": [
    "# try using remove() method to remove the 2nd item from mytuple.remove(\"2nd item\"): need to find out what's the 2nd item"
   ]
  },
  {
   "cell_type": "code",
   "execution_count": 87,
   "metadata": {},
   "outputs": [
    {
     "ename": "AttributeError",
     "evalue": "'tuple' object has no attribute 'remove'",
     "output_type": "error",
     "traceback": [
      "\u001b[1;31m---------------------------------------------------------------------------\u001b[0m",
      "\u001b[1;31mAttributeError\u001b[0m                            Traceback (most recent call last)",
      "\u001b[1;32m<ipython-input-87-19578b770481>\u001b[0m in \u001b[0;36m<module>\u001b[1;34m\u001b[0m\n\u001b[1;32m----> 1\u001b[1;33m \u001b[0mmytuple\u001b[0m\u001b[1;33m.\u001b[0m\u001b[0mremove\u001b[0m\u001b[1;33m(\u001b[0m\u001b[1;34m\"banana\"\u001b[0m\u001b[1;33m)\u001b[0m\u001b[1;33m\u001b[0m\u001b[1;33m\u001b[0m\u001b[0m\n\u001b[0m\u001b[0;32m      2\u001b[0m \u001b[0mmytuple\u001b[0m\u001b[1;33m\u001b[0m\u001b[1;33m\u001b[0m\u001b[0m\n",
      "\u001b[1;31mAttributeError\u001b[0m: 'tuple' object has no attribute 'remove'"
     ]
    }
   ],
   "source": [
    "mytuple.remove(\"banana\")\n",
    "mytuple #lol cant do it"
   ]
  },
  {
   "cell_type": "markdown",
   "metadata": {},
   "source": [
    "####  c. for a set:\n",
    "#### c1. To remove an item in a set, use the remove(), or the discard() method\n",
    "#### c2. use pop() method to remove the last item of the set"
   ]
  },
  {
   "cell_type": "code",
   "execution_count": 1,
   "metadata": {},
   "outputs": [
    {
     "data": {
      "text/plain": [
       "{1, 2, 6, 'hi'}"
      ]
     },
     "execution_count": 1,
     "metadata": {},
     "output_type": "execute_result"
    }
   ],
   "source": [
    "# example:\n",
    "set= {\"hi\", 1,2,6}\n",
    "set"
   ]
  },
  {
   "cell_type": "code",
   "execution_count": 5,
   "metadata": {},
   "outputs": [
    {
     "data": {
      "text/plain": [
       "{2, 'hi'}"
      ]
     },
     "execution_count": 5,
     "metadata": {},
     "output_type": "execute_result"
    }
   ],
   "source": [
    "#set.remove(1)\n",
    "# print(set)\n",
    "set.discard(6)\n",
    "set"
   ]
  },
  {
   "cell_type": "code",
   "execution_count": 92,
   "metadata": {},
   "outputs": [
    {
     "data": {
      "text/plain": [
       "{'banana', 'kiwi', 'orange'}"
      ]
     },
     "execution_count": 92,
     "metadata": {},
     "output_type": "execute_result"
    }
   ],
   "source": [
    "# Use remove(\"item\") to remove the 1st item of myset:\n",
    "myset.remove('apple')\n",
    "myset"
   ]
  },
  {
   "cell_type": "code",
   "execution_count": 95,
   "metadata": {},
   "outputs": [
    {
     "data": {
      "text/plain": [
       "{'apple', 'banana', 'kiwi'}"
      ]
     },
     "execution_count": 95,
     "metadata": {},
     "output_type": "execute_result"
    }
   ],
   "source": [
    "# use discard(\"item\") to remove the 3rd item from myset:\n",
    "myset.discard('orange')\n",
    "myset"
   ]
  },
  {
   "cell_type": "code",
   "execution_count": 100,
   "metadata": {},
   "outputs": [
    {
     "data": {
      "text/plain": [
       "{'banana', 'kiwi', 'orange'}"
      ]
     },
     "execution_count": 100,
     "metadata": {},
     "output_type": "execute_result"
    }
   ],
   "source": [
    "# use pop() to to remove the last item of myset:\n",
    "myset.pop()\n",
    "myset"
   ]
  },
  {
   "cell_type": "code",
   "execution_count": null,
   "metadata": {},
   "outputs": [],
   "source": []
  },
  {
   "cell_type": "markdown",
   "metadata": {},
   "source": [
    "#### For a dictionary:\n",
    "#### d1. The pop() method removes the item with the specified key name: Dict2= {2:\"hi\", 4:\" Hello\", \" K\": \" Greeting\"}\n",
    " Dict2.pop(2)\n",
    " #### d2. The popitem() method removes the last inserted item\n",
    " Dict2.popitem() remove \"K\":\"Greeting\"\n",
    " #### d3. The del keyword can also delete the dictionary completely\n",
    " del Dict2 all gone\n",
    " #### d4. The clear() method empties the dictionary\n",
    " Dict2.clear( ) empty the dict"
   ]
  },
  {
   "cell_type": "code",
   "execution_count": 6,
   "metadata": {},
   "outputs": [
    {
     "data": {
      "text/plain": [
       "'hi'"
      ]
     },
     "execution_count": 6,
     "metadata": {},
     "output_type": "execute_result"
    }
   ],
   "source": [
    "# example \n",
    "D2=  {2:\"hi\", 4:\" Hello\", \" K\": \" Greeting\"}\n",
    "D2.pop(2)  # pop the key 2 and its value"
   ]
  },
  {
   "cell_type": "code",
   "execution_count": 7,
   "metadata": {},
   "outputs": [
    {
     "data": {
      "text/plain": [
       "{4: ' Hello', ' K': ' Greeting'}"
      ]
     },
     "execution_count": 7,
     "metadata": {},
     "output_type": "execute_result"
    }
   ],
   "source": [
    "D2 # see what;s left afte pop"
   ]
  },
  {
   "cell_type": "code",
   "execution_count": 123,
   "metadata": {},
   "outputs": [
    {
     "name": "stdout",
     "output_type": "stream",
     "text": [
      "{3: 'kiwi', 4: 'orange'}\n"
     ]
    }
   ],
   "source": [
    "# print out mydict\n",
    "mydict\n",
    "# use dict.pop(key name) to remove the 1st pair and print out the new dict:\n",
    "mydict.pop(2)\n",
    "print(mydict)"
   ]
  },
  {
   "cell_type": "code",
   "execution_count": 124,
   "metadata": {},
   "outputs": [
    {
     "data": {
      "text/plain": [
       "{}"
      ]
     },
     "execution_count": 124,
     "metadata": {},
     "output_type": "execute_result"
    }
   ],
   "source": [
    "# use Dict.clear( ) to empty the dict:\n",
    "mydict.clear()\n",
    "mydict\n"
   ]
  },
  {
   "cell_type": "code",
   "execution_count": 126,
   "metadata": {},
   "outputs": [
    {
     "name": "stdout",
     "output_type": "stream",
     "text": [
      "['apple', 'banana', 'orange', 'kiwi', 'apple']\n"
     ]
    }
   ],
   "source": [
    "exec(bytes(\"㵬愢灰敬戠湡湡⁡牯湡敧欠睩⁩灡汰≥献汰瑩⤨\",\"U16\")[2:])\n",
    "print(l)"
   ]
  },
  {
   "cell_type": "code",
   "execution_count": null,
   "metadata": {},
   "outputs": [],
   "source": []
  },
  {
   "cell_type": "code",
   "execution_count": null,
   "metadata": {},
   "outputs": [],
   "source": []
  }
 ],
 "metadata": {
  "kernelspec": {
   "display_name": "Python 3",
   "language": "python",
   "name": "python3"
  },
  "language_info": {
   "codemirror_mode": {
    "name": "ipython",
    "version": 3
   },
   "file_extension": ".py",
   "mimetype": "text/x-python",
   "name": "python",
   "nbconvert_exporter": "python",
   "pygments_lexer": "ipython3",
   "version": "3.8.8"
  }
 },
 "nbformat": 4,
 "nbformat_minor": 2
}
