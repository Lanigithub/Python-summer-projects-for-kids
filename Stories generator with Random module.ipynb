{
 "cells": [
  {
   "cell_type": "code",
   "execution_count": 1,
   "metadata": {},
   "outputs": [],
   "source": [
    "# In a story we have person(who), place(where), event(what), time ( when) \n",
    "# we are going to generate a story with the random module with different parts of a story. \n",
    "# use random.choice() to pick choices from the list of parts in each categories\n"
   ]
  },
  {
   "cell_type": "code",
   "execution_count": 1,
   "metadata": {},
   "outputs": [],
   "source": [
    "import random\n",
    "from random import choice"
   ]
  },
  {
   "cell_type": "code",
   "execution_count": 13,
   "metadata": {},
   "outputs": [],
   "source": [
    "# assign choices for each of the categories of the story, make each as a list\n",
    "# you could add more in the story like from=[' England', 'New Yord'], name=[\" Joy\", 'May'] and so on\n",
    "who= ['A girl', ' A bunny', 'A curious puppy','A red hen', 'A funny boy']\n",
    "where=['a mountain', ' a dry well', ' a party', ' a math class']\n",
    "what= [' to meet a friend', ' to learn something', ' to sing', ' to find out a secret']\n",
    "time = [' on Monday', ' by Friday', ' on my birthday', ' in Christmas', ' on a rainy day']\n",
    "From = [' New York', \" A farm\", ' the countryside ']\n",
    "nick= [' Joy', \" Bingbing\", ' Sweetpie',' 小胖']"
   ]
  },
  {
   "cell_type": "code",
   "execution_count": 14,
   "metadata": {},
   "outputs": [
    {
     "name": "stdout",
     "output_type": "stream",
     "text": [
      "A funny boy\n"
     ]
    }
   ],
   "source": [
    "# Now we are going to print out the story with choice()\n",
    "print(choice(who))"
   ]
  },
  {
   "cell_type": "code",
   "execution_count": 15,
   "metadata": {},
   "outputs": [
    {
     "name": "stdout",
     "output_type": "stream",
     "text": [
      "A girl went to a dry well to sing on my birthday.\n"
     ]
    }
   ],
   "source": [
    "# use + to connect all parts in the story\n",
    "print(choice(who) + \" went to\" + choice(where) + choice(what) + choice(time)+\".\" ) "
   ]
  },
  {
   "cell_type": "code",
   "execution_count": 17,
   "metadata": {},
   "outputs": [
    {
     "name": "stdout",
     "output_type": "stream",
     "text": [
      "A curious puppy with a nickname Bingbing, on Monday, went to a mountain to meet a friend.\n"
     ]
    }
   ],
   "source": [
    "# or \n",
    "print(choice(who)+\" with a nickname\" + choice(nick)+ \",\"+ choice(time) +',' +\" went to \" + choice(where) + choice(what)  + \".\")"
   ]
  },
  {
   "cell_type": "code",
   "execution_count": 7,
   "metadata": {},
   "outputs": [
    {
     "name": "stdout",
     "output_type": "stream",
     "text": [
      "Write a charater's name here: Lily\n",
      "Write a place the charater is going:   the prom\n",
      "Type what the charater is goint to do: dance\n",
      "Type the time or day the story is happened: this Saturday\n",
      "Lily went to the prom to dance on this Saturday.\n"
     ]
    }
   ],
   "source": [
    "# Let's try uning input to generate a story:\n",
    "who=input(\"Write a charater's name here: \")\n",
    "where=input(\"Write a place the charater is going:   \")\n",
    "what=input(\"Type what the charater is goint to do: \")\n",
    "when=input(\"Type the time or day the story is happened: \")\n",
    "\n",
    "print(who+ \" went to \"+ where+ ' to ' + what+ \" on \"+ when+'.')"
   ]
  },
  {
   "cell_type": "markdown",
   "metadata": {},
   "source": [
    "###  Exercise 1: can you create a story generator to make a story with the following elements in the story: main character, what they do, where does the story happen? Why ? when?  what are the names and where are they from and other things you might want to add to the story. Use random.choice() function to generate the story:"
   ]
  },
  {
   "cell_type": "code",
   "execution_count": null,
   "metadata": {},
   "outputs": [],
   "source": [
    "# import random\n",
    "\n"
   ]
  },
  {
   "cell_type": "code",
   "execution_count": null,
   "metadata": {},
   "outputs": [],
   "source": [
    "# make a list for each category: \n"
   ]
  },
  {
   "cell_type": "code",
   "execution_count": null,
   "metadata": {},
   "outputs": [],
   "source": [
    "# display the story with random.choice() function , use + to connect all parts of the story:\n"
   ]
  },
  {
   "cell_type": "code",
   "execution_count": null,
   "metadata": {},
   "outputs": [],
   "source": []
  },
  {
   "cell_type": "markdown",
   "metadata": {},
   "source": [
    "###  Exercise 2: use input() to  promt the users to enter the person, name, where, what(they do), when( time it happened) and then prin out the story: "
   ]
  },
  {
   "cell_type": "code",
   "execution_count": null,
   "metadata": {},
   "outputs": [],
   "source": [
    "# promt users to input their choice of the category using input() function:\n",
    "\n",
    "\n"
   ]
  },
  {
   "cell_type": "code",
   "execution_count": null,
   "metadata": {},
   "outputs": [],
   "source": [
    "# display the story: \n",
    "\n"
   ]
  },
  {
   "cell_type": "code",
   "execution_count": null,
   "metadata": {},
   "outputs": [],
   "source": []
  },
  {
   "cell_type": "code",
   "execution_count": null,
   "metadata": {},
   "outputs": [],
   "source": []
  }
 ],
 "metadata": {
  "kernelspec": {
   "display_name": "Python 3",
   "language": "python",
   "name": "python3"
  },
  "language_info": {
   "codemirror_mode": {
    "name": "ipython",
    "version": 3
   },
   "file_extension": ".py",
   "mimetype": "text/x-python",
   "name": "python",
   "nbconvert_exporter": "python",
   "pygments_lexer": "ipython3",
   "version": "3.7.1"
  }
 },
 "nbformat": 4,
 "nbformat_minor": 2
}
