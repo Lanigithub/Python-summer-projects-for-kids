{
 "cells": [
  {
   "cell_type": "markdown",
   "metadata": {},
   "source": [
    "#  Quiz 2: List, tuple, set and dictionary(1) "
   ]
  },
  {
   "cell_type": "markdown",
   "metadata": {},
   "source": [
    "##  ***4 built-in data types in Python used to store collections of data, they are List, Tuple,\n",
    "##  Set, and Dictionary. \n",
    "##  all with different qualities and usage:\n",
    "###  1. List: mylist = [\"apple\", \"banana\", \"cherry\", \"apple\"] --inside a  square brackets, List items are ordered, ### changeable, and allow duplicate values.\n",
    "\n",
    "### List items are indexed, the first item has index [0], the second item has index [1] etc\n",
    "###  2. Tuple: mytuple = (\"apple\", \"banana\", \"cherry\", \" apple\")--in round brackets, ordered ,  unchangable, ### allowed duplicate\n",
    "\n",
    "###  3. Set: myset = {\"apple\", \"banana\", \"cherry\"},--in curly brackets,  both *unordered* and unindexed, \n",
    "### not alloweed duplicate\n",
    "\n",
    "###  4. Dictionary: thisdict = {\n",
    "###   \"brand\": \"Ford\",\n",
    "###    \"model\": \"Mustang\",\n",
    "###    \"year\": 1964\n",
    "###    }  -- in curly brackets, and have keys and values; ordered, changeable and does not allow duplicates"
   ]
  },
  {
   "cell_type": "code",
   "execution_count": null,
   "metadata": {},
   "outputs": [],
   "source": []
  },
  {
   "cell_type": "markdown",
   "metadata": {},
   "source": [
    "### 1. Create a list, tuple , set and dictionay: "
   ]
  },
  {
   "cell_type": "code",
   "execution_count": 1,
   "metadata": {},
   "outputs": [],
   "source": [
    "# a1. Create a list with items inside: apple, apple, orange, peach, banana, cherry and assign the list \n",
    "# to the variable mylist1 and print it:\n",
    "\n"
   ]
  },
  {
   "cell_type": "code",
   "execution_count": 15,
   "metadata": {},
   "outputs": [],
   "source": [
    "# a2 create a list with numbers: 1,2,6,5,8,9,2 and assign it to the variablemylist2 and print it:\n",
    "\n"
   ]
  },
  {
   "cell_type": "code",
   "execution_count": null,
   "metadata": {},
   "outputs": [],
   "source": []
  },
  {
   "cell_type": "code",
   "execution_count": null,
   "metadata": {},
   "outputs": [],
   "source": [
    "# b1. Create a tuple with the items inside: apple, apple, orange, peach, banana, cherry and assign the tuple to \n",
    "# the variable mytuple1 and print it: \n"
   ]
  },
  {
   "cell_type": "code",
   "execution_count": 16,
   "metadata": {},
   "outputs": [],
   "source": [
    "# b2. create a tuple with the numbers: 1,2,3,5,6,6,3 and assign it to a varaible mytuple2 and print it:\n",
    "\n"
   ]
  },
  {
   "cell_type": "code",
   "execution_count": null,
   "metadata": {},
   "outputs": [],
   "source": []
  },
  {
   "cell_type": "code",
   "execution_count": null,
   "metadata": {},
   "outputs": [],
   "source": [
    "# c1. Create a set with the items inside: apple, orange, peach, banana, cherry and assign the set to \n",
    "# the variable myset1 and display the set:\n"
   ]
  },
  {
   "cell_type": "code",
   "execution_count": 17,
   "metadata": {},
   "outputs": [],
   "source": [
    "# c2. create a set with numbers inside: 1,3,5,2,6,3,2 and assign/store it to a varaible myset2 and display the set: \n",
    "\n"
   ]
  },
  {
   "cell_type": "code",
   "execution_count": 10,
   "metadata": {},
   "outputs": [],
   "source": [
    "# d1. Create a dictionary with the items inside: f1: apple, f2:orange,f3: peach,f4: banana, f5: cherry and assign the \n",
    "# dictionary to  the variable mydict1:\n",
    "\n"
   ]
  },
  {
   "cell_type": "code",
   "execution_count": null,
   "metadata": {},
   "outputs": [],
   "source": [
    "# d2. Create a dictionary with the following pairs: "
   ]
  },
  {
   "cell_type": "markdown",
   "metadata": {},
   "source": [
    "### 2. Access the list, tuple, set and dictionary:  \n",
    "#### a. List items are indexed and you can access them by referring to the index number, inside square brackets. List[1]\n",
    "#### b. Tuple items are indexed and you can access them by referring to the index number, inside square brackets; Tuple[0]\n",
    "#### c. Sets are not indexed and you can't access them by index number\n",
    "#### d. Dictionary : You can access the items of a dictionary by referring to its key name, inside square brackets  Dict[\"key\"]"
   ]
  },
  {
   "cell_type": "code",
   "execution_count": 29,
   "metadata": {},
   "outputs": [
    {
     "data": {
      "text/plain": [
       "[1, 2, 3, 4]"
      ]
     },
     "execution_count": 29,
     "metadata": {},
     "output_type": "execute_result"
    }
   ],
   "source": [
    "## Example:  Note: position of an item on the list, tuple and dictionary start with the index 0 \n",
    "# List[0] is the first number on the list\n",
    "mylist=[1,2,3,4] # index for the list is 0, 1,2,3\n",
    "mylist"
   ]
  },
  {
   "cell_type": "code",
   "execution_count": 18,
   "metadata": {},
   "outputs": [
    {
     "data": {
      "text/plain": [
       "2"
      ]
     },
     "execution_count": 18,
     "metadata": {},
     "output_type": "execute_result"
    }
   ],
   "source": [
    "# access the 2nd item(idex 1) on the list: List[1]\n",
    "mylist[1]"
   ]
  },
  {
   "cell_type": "code",
   "execution_count": null,
   "metadata": {},
   "outputs": [],
   "source": [
    "# a1.access the 2nd item of mylist1: \n",
    "\n",
    "#a2.  print out the 3rd number in mylist2:\n"
   ]
  },
  {
   "cell_type": "code",
   "execution_count": null,
   "metadata": {},
   "outputs": [],
   "source": []
  },
  {
   "cell_type": "code",
   "execution_count": null,
   "metadata": {},
   "outputs": [],
   "source": [
    "# b1. access the 3rd item on mytuple1:\n",
    "\n",
    "# b2. access the last item on mytuple2:  **  hint use index -1\n",
    "\n"
   ]
  },
  {
   "cell_type": "code",
   "execution_count": null,
   "metadata": {},
   "outputs": [],
   "source": []
  },
  {
   "cell_type": "code",
   "execution_count": 31,
   "metadata": {},
   "outputs": [
    {
     "data": {
      "text/plain": [
       "[2, 3, 4]"
      ]
     },
     "execution_count": 31,
     "metadata": {},
     "output_type": "execute_result"
    }
   ],
   "source": [
    "## Range of Indexes for list and tuple: \n",
    "# You can specify a range of indexes by specifying where to start and where to end the range.\n",
    "\n",
    "# When specifying a range, the return value will be a new list/tuple with the specified items.\n",
    "\n",
    "# Example find the 2nd third and 4th numbers from mylist:\n",
    "mylist=[1,2,3,4]\n",
    "mylist[1:5]  # [starting index: ending index but not included]"
   ]
  },
  {
   "cell_type": "code",
   "execution_count": 33,
   "metadata": {},
   "outputs": [
    {
     "name": "stdout",
     "output_type": "stream",
     "text": [
      "['A', 'B', 'C', 'D', 'E']\n"
     ]
    },
    {
     "data": {
      "text/plain": [
       "['A', 'B', 'C', 'D']"
      ]
     },
     "execution_count": 33,
     "metadata": {},
     "output_type": "execute_result"
    }
   ],
   "source": [
    "# access the first 3 items on mytuple:\n",
    "mytuple=('A B C D E'.split(\" \"))  # split the string by a blank space and return a collection  of items\n",
    "print(mytuple)\n",
    "mytuple[:4]  # find the first 4 item inside the square brackets the first index could be 0 [0:4]or just leave it blank"
   ]
  },
  {
   "cell_type": "code",
   "execution_count": null,
   "metadata": {},
   "outputs": [],
   "source": []
  },
  {
   "cell_type": "code",
   "execution_count": null,
   "metadata": {},
   "outputs": [],
   "source": [
    "#a. Find the first 4 items from mylist1:\n",
    "\n"
   ]
  },
  {
   "cell_type": "code",
   "execution_count": 36,
   "metadata": {},
   "outputs": [
    {
     "data": {
      "text/plain": [
       "['1', '3', '5', '7', '9']"
      ]
     },
     "execution_count": 36,
     "metadata": {},
     "output_type": "execute_result"
    }
   ],
   "source": [
    "# b. start from the first find every other item from:\n",
    "mytuple=(\"1 2 3 4 5 6 7 8 9 10\". split(\" \"))\n",
    "mytuple\n",
    "mytuple[::2]"
   ]
  },
  {
   "cell_type": "code",
   "execution_count": null,
   "metadata": {},
   "outputs": [],
   "source": []
  },
  {
   "cell_type": "code",
   "execution_count": 25,
   "metadata": {},
   "outputs": [
    {
     "name": "stdout",
     "output_type": "stream",
     "text": [
      "False\n",
      "True\n"
     ]
    }
   ],
   "source": [
    "# c1 and c2: sets are not indexed so you can't access to individual item in a particular set.\n",
    "# but you could check if an item in a set:\n",
    "myset={2,3,6,4,\"Hi\"}\n",
    "print(5 in myset)\n",
    "print(\"Hi\" in myset)"
   ]
  },
  {
   "cell_type": "code",
   "execution_count": 27,
   "metadata": {},
   "outputs": [],
   "source": [
    "# Can you also check if an object or item in a list or tuple using the same way?\n",
    "mylist=[2,3,6,4,\"Hi\"]\n",
    "mytuple=(2,3,6,4,\"Hi\")\n",
    "\n"
   ]
  },
  {
   "cell_type": "code",
   "execution_count": null,
   "metadata": {},
   "outputs": [],
   "source": []
  },
  {
   "cell_type": "code",
   "execution_count": null,
   "metadata": {},
   "outputs": [],
   "source": [
    "# d1: You can access the items of a dictionary by referring to its key name, inside square brackets:\n",
    "# Find the value for the key \" f5\" from mydict1:\n"
   ]
  },
  {
   "cell_type": "code",
   "execution_count": null,
   "metadata": {},
   "outputs": [],
   "source": [
    "# d2: use method called get() to get the value for the key\"f2\" :\n"
   ]
  },
  {
   "cell_type": "code",
   "execution_count": 39,
   "metadata": {},
   "outputs": [],
   "source": [
    "# d3: Can you find out the key if you konw the corresponding value??:\n",
    "\n"
   ]
  },
  {
   "cell_type": "code",
   "execution_count": null,
   "metadata": {},
   "outputs": [],
   "source": []
  },
  {
   "cell_type": "code",
   "execution_count": null,
   "metadata": {},
   "outputs": [],
   "source": []
  }
 ],
 "metadata": {
  "kernelspec": {
   "display_name": "Python 3",
   "language": "python",
   "name": "python3"
  },
  "language_info": {
   "codemirror_mode": {
    "name": "ipython",
    "version": 3
   },
   "file_extension": ".py",
   "mimetype": "text/x-python",
   "name": "python",
   "nbconvert_exporter": "python",
   "pygments_lexer": "ipython3",
   "version": "3.7.1"
  }
 },
 "nbformat": 4,
 "nbformat_minor": 2
}
